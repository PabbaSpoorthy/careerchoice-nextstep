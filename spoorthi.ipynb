{
  "nbformat": 4,
  "nbformat_minor": 0,
  "metadata": {
    "colab": {
      "name": "spoorthy.ipynb",
      "provenance": [],
      "collapsed_sections": []
    },
    "kernelspec": {
      "name": "python3",
      "display_name": "Python 3"
    }
  },
  "cells": [
    {
      "cell_type": "code",
      "metadata": {
        "id": "_r5EnnSXgsYb",
        "colab_type": "code",
        "colab": {}
      },
      "source": [
        "import pandas as pd\n",
        "import matplotlib.pyplot as plt\n",
        "import seaborn as sns\n",
        "from sklearn.preprocessing import LabelEncoder\n",
        "from sklearn.linear_model import LogisticRegression\n",
        "from sklearn.neighbors import KNeighborsClassifier\n",
        "from sklearn.model_selection import train_test_split\n",
        "from sklearn.metrics import accuracy_score\n"
      ],
      "execution_count": 0,
      "outputs": []
    },
    {
      "cell_type": "code",
      "metadata": {
        "id": "GCYavIeDiW32",
        "colab_type": "code",
        "colab": {}
      },
      "source": [
        "df = pd.read_csv(\"/content/drive/My Drive/spoorthi/spoorthi.csv\")"
      ],
      "execution_count": 0,
      "outputs": []
    },
    {
      "cell_type": "code",
      "metadata": {
        "id": "0MSOYyTtilYU",
        "colab_type": "code",
        "outputId": "782eaee3-0a1b-4e6e-d839-4bdbd3414d0b",
        "colab": {
          "base_uri": "https://localhost:8080/",
          "height": 148
        }
      },
      "source": [
        "df.head(1)"
      ],
      "execution_count": 0,
      "outputs": [
        {
          "output_type": "execute_result",
          "data": {
            "text/html": [
              "<div>\n",
              "<style scoped>\n",
              "    .dataframe tbody tr th:only-of-type {\n",
              "        vertical-align: middle;\n",
              "    }\n",
              "\n",
              "    .dataframe tbody tr th {\n",
              "        vertical-align: top;\n",
              "    }\n",
              "\n",
              "    .dataframe thead th {\n",
              "        text-align: right;\n",
              "    }\n",
              "</style>\n",
              "<table border=\"1\" class=\"dataframe\">\n",
              "  <thead>\n",
              "    <tr style=\"text-align: right;\">\n",
              "      <th></th>\n",
              "      <th>Timestamp</th>\n",
              "      <th>Name</th>\n",
              "      <th>CGPA in tenth</th>\n",
              "      <th>How old were you when you passed S.S.C?</th>\n",
              "      <th>Three Subjects of interest (MATHEMATICS,PHYSICS,CHEMISTRY,BIOLOGY,HISTORY,ECONOMICS,CIVICS,COMMERCE)</th>\n",
              "      <th>course opted after tenth (Eg. MPC/ BiPC/MEC etc.,)</th>\n",
              "      <th>Unnamed: 6</th>\n",
              "      <th>Unnamed: 7</th>\n",
              "    </tr>\n",
              "  </thead>\n",
              "  <tbody>\n",
              "    <tr>\n",
              "      <th>0</th>\n",
              "      <td>2/6/2020 21:39:00</td>\n",
              "      <td>Shivani</td>\n",
              "      <td>9.8</td>\n",
              "      <td>16</td>\n",
              "      <td>Mathematics</td>\n",
              "      <td>MPC</td>\n",
              "      <td>Physics</td>\n",
              "      <td>Chemistry</td>\n",
              "    </tr>\n",
              "  </tbody>\n",
              "</table>\n",
              "</div>"
            ],
            "text/plain": [
              "           Timestamp     Name  ...  Unnamed: 6  Unnamed: 7\n",
              "0  2/6/2020 21:39:00  Shivani  ...     Physics   Chemistry\n",
              "\n",
              "[1 rows x 8 columns]"
            ]
          },
          "metadata": {
            "tags": []
          },
          "execution_count": 73
        }
      ]
    },
    {
      "cell_type": "code",
      "metadata": {
        "id": "idWFmmGoipNM",
        "colab_type": "code",
        "outputId": "5cf8ad11-a5f0-4d2e-ff2a-cdc7198c0d95",
        "colab": {
          "base_uri": "https://localhost:8080/",
          "height": 119
        }
      },
      "source": [
        "df.columns"
      ],
      "execution_count": 0,
      "outputs": [
        {
          "output_type": "execute_result",
          "data": {
            "text/plain": [
              "Index(['Timestamp', 'Name', 'CGPA in tenth',\n",
              "       'How old were you when you passed S.S.C?',\n",
              "       'Three Subjects of interest (MATHEMATICS,PHYSICS,CHEMISTRY,BIOLOGY,HISTORY,ECONOMICS,CIVICS,COMMERCE)',\n",
              "       'course opted after tenth (Eg. MPC/ BiPC/MEC etc.,)', 'Unnamed: 6',\n",
              "       'Unnamed: 7'],\n",
              "      dtype='object')"
            ]
          },
          "metadata": {
            "tags": []
          },
          "execution_count": 74
        }
      ]
    },
    {
      "cell_type": "code",
      "metadata": {
        "id": "n_pvOVBmi3R8",
        "colab_type": "code",
        "colab": {}
      },
      "source": [
        "names = df['Name']\n",
        "df.drop(['Timestamp','Name'],axis=1,inplace=True)"
      ],
      "execution_count": 0,
      "outputs": []
    },
    {
      "cell_type": "code",
      "metadata": {
        "id": "avLlhpGxjA8s",
        "colab_type": "code",
        "outputId": "174fe479-b921-48c8-bbe7-d3cb5c1de28e",
        "colab": {
          "base_uri": "https://localhost:8080/",
          "height": 221
        }
      },
      "source": [
        "df.head()"
      ],
      "execution_count": 0,
      "outputs": [
        {
          "output_type": "execute_result",
          "data": {
            "text/html": [
              "<div>\n",
              "<style scoped>\n",
              "    .dataframe tbody tr th:only-of-type {\n",
              "        vertical-align: middle;\n",
              "    }\n",
              "\n",
              "    .dataframe tbody tr th {\n",
              "        vertical-align: top;\n",
              "    }\n",
              "\n",
              "    .dataframe thead th {\n",
              "        text-align: right;\n",
              "    }\n",
              "</style>\n",
              "<table border=\"1\" class=\"dataframe\">\n",
              "  <thead>\n",
              "    <tr style=\"text-align: right;\">\n",
              "      <th></th>\n",
              "      <th>CGPA in tenth</th>\n",
              "      <th>How old were you when you passed S.S.C?</th>\n",
              "      <th>Three Subjects of interest (MATHEMATICS,PHYSICS,CHEMISTRY,BIOLOGY,HISTORY,ECONOMICS,CIVICS,COMMERCE)</th>\n",
              "      <th>course opted after tenth (Eg. MPC/ BiPC/MEC etc.,)</th>\n",
              "      <th>Unnamed: 6</th>\n",
              "      <th>Unnamed: 7</th>\n",
              "    </tr>\n",
              "  </thead>\n",
              "  <tbody>\n",
              "    <tr>\n",
              "      <th>0</th>\n",
              "      <td>9.8</td>\n",
              "      <td>16</td>\n",
              "      <td>Mathematics</td>\n",
              "      <td>MPC</td>\n",
              "      <td>Physics</td>\n",
              "      <td>Chemistry</td>\n",
              "    </tr>\n",
              "    <tr>\n",
              "      <th>1</th>\n",
              "      <td>10.0</td>\n",
              "      <td>16</td>\n",
              "      <td>Mathematics</td>\n",
              "      <td>MPC</td>\n",
              "      <td>NaN</td>\n",
              "      <td>NaN</td>\n",
              "    </tr>\n",
              "    <tr>\n",
              "      <th>2</th>\n",
              "      <td>9.8</td>\n",
              "      <td>16</td>\n",
              "      <td>Maths</td>\n",
              "      <td>MPC</td>\n",
              "      <td>Physics</td>\n",
              "      <td>Chemistry</td>\n",
              "    </tr>\n",
              "    <tr>\n",
              "      <th>3</th>\n",
              "      <td>10.0</td>\n",
              "      <td>16</td>\n",
              "      <td>Maths</td>\n",
              "      <td>MPC</td>\n",
              "      <td>History</td>\n",
              "      <td>NaN</td>\n",
              "    </tr>\n",
              "    <tr>\n",
              "      <th>4</th>\n",
              "      <td>10.0</td>\n",
              "      <td>15</td>\n",
              "      <td>Physics</td>\n",
              "      <td>MPC</td>\n",
              "      <td>Mathematics</td>\n",
              "      <td>Economics</td>\n",
              "    </tr>\n",
              "  </tbody>\n",
              "</table>\n",
              "</div>"
            ],
            "text/plain": [
              "   CGPA in tenth  ...  Unnamed: 7\n",
              "0            9.8  ...   Chemistry\n",
              "1           10.0  ...         NaN\n",
              "2            9.8  ...   Chemistry\n",
              "3           10.0  ...         NaN\n",
              "4           10.0  ...   Economics\n",
              "\n",
              "[5 rows x 6 columns]"
            ]
          },
          "metadata": {
            "tags": []
          },
          "execution_count": 76
        }
      ]
    },
    {
      "cell_type": "code",
      "metadata": {
        "id": "9w9beB-bjSwb",
        "colab_type": "code",
        "colab": {}
      },
      "source": [
        "d = {'cgpa':df['CGPA in tenth'],'age':df['How old were you when you passed S.S.C?'],\n",
        "     's1':df['Three Subjects of interest (MATHEMATICS,PHYSICS,CHEMISTRY,BIOLOGY,HISTORY,ECONOMICS,CIVICS,COMMERCE)'],\n",
        "     's2':df['Unnamed: 6'],'s3':df['Unnamed: 7'],\n",
        "     'target' : df['course opted after tenth (Eg. MPC/ BiPC/MEC etc.,)']\n",
        "     }\n",
        "     "
      ],
      "execution_count": 0,
      "outputs": []
    },
    {
      "cell_type": "code",
      "metadata": {
        "id": "b5y6DwIvkcHy",
        "colab_type": "code",
        "colab": {}
      },
      "source": [
        "df = pd.DataFrame(d)"
      ],
      "execution_count": 0,
      "outputs": []
    },
    {
      "cell_type": "code",
      "metadata": {
        "id": "-Oz7wD4Vkohi",
        "colab_type": "code",
        "outputId": "7de4e2b3-de0c-4884-8ab4-d40de9124373",
        "colab": {
          "base_uri": "https://localhost:8080/",
          "height": 204
        }
      },
      "source": [
        "df.head()"
      ],
      "execution_count": 0,
      "outputs": [
        {
          "output_type": "execute_result",
          "data": {
            "text/html": [
              "<div>\n",
              "<style scoped>\n",
              "    .dataframe tbody tr th:only-of-type {\n",
              "        vertical-align: middle;\n",
              "    }\n",
              "\n",
              "    .dataframe tbody tr th {\n",
              "        vertical-align: top;\n",
              "    }\n",
              "\n",
              "    .dataframe thead th {\n",
              "        text-align: right;\n",
              "    }\n",
              "</style>\n",
              "<table border=\"1\" class=\"dataframe\">\n",
              "  <thead>\n",
              "    <tr style=\"text-align: right;\">\n",
              "      <th></th>\n",
              "      <th>cgpa</th>\n",
              "      <th>age</th>\n",
              "      <th>s1</th>\n",
              "      <th>s2</th>\n",
              "      <th>s3</th>\n",
              "      <th>target</th>\n",
              "    </tr>\n",
              "  </thead>\n",
              "  <tbody>\n",
              "    <tr>\n",
              "      <th>0</th>\n",
              "      <td>9.8</td>\n",
              "      <td>16</td>\n",
              "      <td>Mathematics</td>\n",
              "      <td>Physics</td>\n",
              "      <td>Chemistry</td>\n",
              "      <td>MPC</td>\n",
              "    </tr>\n",
              "    <tr>\n",
              "      <th>1</th>\n",
              "      <td>10.0</td>\n",
              "      <td>16</td>\n",
              "      <td>Mathematics</td>\n",
              "      <td>NaN</td>\n",
              "      <td>NaN</td>\n",
              "      <td>MPC</td>\n",
              "    </tr>\n",
              "    <tr>\n",
              "      <th>2</th>\n",
              "      <td>9.8</td>\n",
              "      <td>16</td>\n",
              "      <td>Maths</td>\n",
              "      <td>Physics</td>\n",
              "      <td>Chemistry</td>\n",
              "      <td>MPC</td>\n",
              "    </tr>\n",
              "    <tr>\n",
              "      <th>3</th>\n",
              "      <td>10.0</td>\n",
              "      <td>16</td>\n",
              "      <td>Maths</td>\n",
              "      <td>History</td>\n",
              "      <td>NaN</td>\n",
              "      <td>MPC</td>\n",
              "    </tr>\n",
              "    <tr>\n",
              "      <th>4</th>\n",
              "      <td>10.0</td>\n",
              "      <td>15</td>\n",
              "      <td>Physics</td>\n",
              "      <td>Mathematics</td>\n",
              "      <td>Economics</td>\n",
              "      <td>MPC</td>\n",
              "    </tr>\n",
              "  </tbody>\n",
              "</table>\n",
              "</div>"
            ],
            "text/plain": [
              "   cgpa  age           s1           s2         s3 target\n",
              "0   9.8   16  Mathematics      Physics  Chemistry    MPC\n",
              "1  10.0   16  Mathematics          NaN        NaN    MPC\n",
              "2   9.8   16        Maths      Physics  Chemistry    MPC\n",
              "3  10.0   16        Maths      History        NaN    MPC\n",
              "4  10.0   15      Physics  Mathematics  Economics    MPC"
            ]
          },
          "metadata": {
            "tags": []
          },
          "execution_count": 79
        }
      ]
    },
    {
      "cell_type": "code",
      "metadata": {
        "id": "x4_jjuj5kphK",
        "colab_type": "code",
        "colab": {}
      },
      "source": [
        "df1 = pd.DataFrame(df.loc[df['s1']=='Maths',:])"
      ],
      "execution_count": 0,
      "outputs": []
    },
    {
      "cell_type": "code",
      "metadata": {
        "id": "e-9CEHCplJzK",
        "colab_type": "code",
        "outputId": "b34a0753-db04-4f41-a2ee-95020f366715",
        "colab": {
          "base_uri": "https://localhost:8080/",
          "height": 328
        }
      },
      "source": [
        "df1"
      ],
      "execution_count": 0,
      "outputs": [
        {
          "output_type": "execute_result",
          "data": {
            "text/html": [
              "<div>\n",
              "<style scoped>\n",
              "    .dataframe tbody tr th:only-of-type {\n",
              "        vertical-align: middle;\n",
              "    }\n",
              "\n",
              "    .dataframe tbody tr th {\n",
              "        vertical-align: top;\n",
              "    }\n",
              "\n",
              "    .dataframe thead th {\n",
              "        text-align: right;\n",
              "    }\n",
              "</style>\n",
              "<table border=\"1\" class=\"dataframe\">\n",
              "  <thead>\n",
              "    <tr style=\"text-align: right;\">\n",
              "      <th></th>\n",
              "      <th>cgpa</th>\n",
              "      <th>age</th>\n",
              "      <th>s1</th>\n",
              "      <th>s2</th>\n",
              "      <th>s3</th>\n",
              "      <th>target</th>\n",
              "    </tr>\n",
              "  </thead>\n",
              "  <tbody>\n",
              "    <tr>\n",
              "      <th>2</th>\n",
              "      <td>9.8</td>\n",
              "      <td>16</td>\n",
              "      <td>Maths</td>\n",
              "      <td>Physics</td>\n",
              "      <td>Chemistry</td>\n",
              "      <td>MPC</td>\n",
              "    </tr>\n",
              "    <tr>\n",
              "      <th>3</th>\n",
              "      <td>10.0</td>\n",
              "      <td>16</td>\n",
              "      <td>Maths</td>\n",
              "      <td>History</td>\n",
              "      <td>NaN</td>\n",
              "      <td>MPC</td>\n",
              "    </tr>\n",
              "    <tr>\n",
              "      <th>43</th>\n",
              "      <td>8.8</td>\n",
              "      <td>16</td>\n",
              "      <td>Maths</td>\n",
              "      <td>Chemistry</td>\n",
              "      <td>Biology</td>\n",
              "      <td>Mpc</td>\n",
              "    </tr>\n",
              "    <tr>\n",
              "      <th>61</th>\n",
              "      <td>9.7</td>\n",
              "      <td>14</td>\n",
              "      <td>Maths</td>\n",
              "      <td>Chemistry</td>\n",
              "      <td>Physics</td>\n",
              "      <td>MPC</td>\n",
              "    </tr>\n",
              "    <tr>\n",
              "      <th>62</th>\n",
              "      <td>9.2</td>\n",
              "      <td>16</td>\n",
              "      <td>Maths</td>\n",
              "      <td>Physics</td>\n",
              "      <td>Chemistry</td>\n",
              "      <td>Mpc</td>\n",
              "    </tr>\n",
              "    <tr>\n",
              "      <th>71</th>\n",
              "      <td>8.0</td>\n",
              "      <td>2015</td>\n",
              "      <td>Maths</td>\n",
              "      <td>Biology</td>\n",
              "      <td>History</td>\n",
              "      <td>Mpc</td>\n",
              "    </tr>\n",
              "    <tr>\n",
              "      <th>73</th>\n",
              "      <td>9.7</td>\n",
              "      <td>15</td>\n",
              "      <td>Maths</td>\n",
              "      <td>Chemistry</td>\n",
              "      <td>History</td>\n",
              "      <td>MPC</td>\n",
              "    </tr>\n",
              "    <tr>\n",
              "      <th>84</th>\n",
              "      <td>9.5</td>\n",
              "      <td>15</td>\n",
              "      <td>Maths</td>\n",
              "      <td>Physics</td>\n",
              "      <td>Chemistry</td>\n",
              "      <td>Mpc</td>\n",
              "    </tr>\n",
              "    <tr>\n",
              "      <th>85</th>\n",
              "      <td>9.5</td>\n",
              "      <td>15</td>\n",
              "      <td>Maths</td>\n",
              "      <td>Physics</td>\n",
              "      <td>Chemistry</td>\n",
              "      <td>Mpc</td>\n",
              "    </tr>\n",
              "  </tbody>\n",
              "</table>\n",
              "</div>"
            ],
            "text/plain": [
              "    cgpa   age     s1         s2          s3 target\n",
              "2    9.8    16  Maths    Physics   Chemistry    MPC\n",
              "3   10.0    16  Maths    History         NaN    MPC\n",
              "43   8.8    16  Maths  Chemistry     Biology    Mpc\n",
              "61   9.7    14  Maths  Chemistry     Physics    MPC\n",
              "62   9.2    16  Maths    Physics  Chemistry     Mpc\n",
              "71   8.0  2015  Maths   Biology     History     Mpc\n",
              "73   9.7    15  Maths  Chemistry     History    MPC\n",
              "84   9.5    15  Maths   Physics   Chemistry    Mpc \n",
              "85   9.5    15  Maths   Physics   Chemistry    Mpc "
            ]
          },
          "metadata": {
            "tags": []
          },
          "execution_count": 81
        }
      ]
    },
    {
      "cell_type": "code",
      "metadata": {
        "id": "qREleSMwmYxo",
        "colab_type": "code",
        "colab": {}
      },
      "source": [
        "le = LabelEncoder()\n",
        "df1['s1'] = le.fit_transform(df1['s1'])"
      ],
      "execution_count": 0,
      "outputs": []
    },
    {
      "cell_type": "code",
      "metadata": {
        "id": "VohXZAvcnDZ_",
        "colab_type": "code",
        "outputId": "03131d06-74f8-4dc0-b757-3d1d262fdf89",
        "colab": {
          "base_uri": "https://localhost:8080/",
          "height": 187
        }
      },
      "source": [
        "df1['s1']"
      ],
      "execution_count": 0,
      "outputs": [
        {
          "output_type": "execute_result",
          "data": {
            "text/plain": [
              "2     0\n",
              "3     0\n",
              "43    0\n",
              "61    0\n",
              "62    0\n",
              "71    0\n",
              "73    0\n",
              "84    0\n",
              "85    0\n",
              "Name: s1, dtype: int64"
            ]
          },
          "metadata": {
            "tags": []
          },
          "execution_count": 83
        }
      ]
    },
    {
      "cell_type": "code",
      "metadata": {
        "id": "gYG-OO3-nEY6",
        "colab_type": "code",
        "colab": {}
      },
      "source": [
        "le2 = LabelEncoder()\n",
        "df1['s2'] = le2.fit_transform(df1['s2'])"
      ],
      "execution_count": 0,
      "outputs": []
    },
    {
      "cell_type": "code",
      "metadata": {
        "id": "ekvozbP_rffl",
        "colab_type": "code",
        "outputId": "f28133a1-ef68-4b6c-f70d-dfb4ec20b581",
        "colab": {
          "base_uri": "https://localhost:8080/",
          "height": 34
        }
      },
      "source": [
        "df1['s2'].unique()"
      ],
      "execution_count": 0,
      "outputs": [
        {
          "output_type": "execute_result",
          "data": {
            "text/plain": [
              "array([3, 2, 1, 0, 4])"
            ]
          },
          "metadata": {
            "tags": []
          },
          "execution_count": 85
        }
      ]
    },
    {
      "cell_type": "code",
      "metadata": {
        "id": "FgKsJHNFr5Do",
        "colab_type": "code",
        "outputId": "4bee643e-3e71-44ae-bf4b-ca80157a5239",
        "colab": {
          "base_uri": "https://localhost:8080/",
          "height": 51
        }
      },
      "source": [
        "le3 = LabelEncoder()\n",
        "df1['s3'].unique()\n"
      ],
      "execution_count": 0,
      "outputs": [
        {
          "output_type": "execute_result",
          "data": {
            "text/plain": [
              "array(['Chemistry', nan, 'Biology', 'Physics', 'Chemistry ', 'History ',\n",
              "       'History'], dtype=object)"
            ]
          },
          "metadata": {
            "tags": []
          },
          "execution_count": 86
        }
      ]
    },
    {
      "cell_type": "code",
      "metadata": {
        "id": "iW0I0isvsLtN",
        "colab_type": "code",
        "colab": {}
      },
      "source": [
        "df1['s3'] = df1['s3'].fillna('')"
      ],
      "execution_count": 0,
      "outputs": []
    },
    {
      "cell_type": "code",
      "metadata": {
        "id": "L0NXjid4sgfI",
        "colab_type": "code",
        "colab": {}
      },
      "source": [
        "df1['s3'] = le3.fit_transform(df1['s3'])"
      ],
      "execution_count": 0,
      "outputs": []
    },
    {
      "cell_type": "code",
      "metadata": {
        "id": "bw1lCYEZspII",
        "colab_type": "code",
        "outputId": "eac9a30b-bc8c-4275-9de9-9d8fd2f335d8",
        "colab": {
          "base_uri": "https://localhost:8080/",
          "height": 204
        }
      },
      "source": [
        "df1.head()"
      ],
      "execution_count": 0,
      "outputs": [
        {
          "output_type": "execute_result",
          "data": {
            "text/html": [
              "<div>\n",
              "<style scoped>\n",
              "    .dataframe tbody tr th:only-of-type {\n",
              "        vertical-align: middle;\n",
              "    }\n",
              "\n",
              "    .dataframe tbody tr th {\n",
              "        vertical-align: top;\n",
              "    }\n",
              "\n",
              "    .dataframe thead th {\n",
              "        text-align: right;\n",
              "    }\n",
              "</style>\n",
              "<table border=\"1\" class=\"dataframe\">\n",
              "  <thead>\n",
              "    <tr style=\"text-align: right;\">\n",
              "      <th></th>\n",
              "      <th>cgpa</th>\n",
              "      <th>age</th>\n",
              "      <th>s1</th>\n",
              "      <th>s2</th>\n",
              "      <th>s3</th>\n",
              "      <th>target</th>\n",
              "    </tr>\n",
              "  </thead>\n",
              "  <tbody>\n",
              "    <tr>\n",
              "      <th>2</th>\n",
              "      <td>9.8</td>\n",
              "      <td>16</td>\n",
              "      <td>0</td>\n",
              "      <td>3</td>\n",
              "      <td>2</td>\n",
              "      <td>MPC</td>\n",
              "    </tr>\n",
              "    <tr>\n",
              "      <th>3</th>\n",
              "      <td>10.0</td>\n",
              "      <td>16</td>\n",
              "      <td>0</td>\n",
              "      <td>2</td>\n",
              "      <td>0</td>\n",
              "      <td>MPC</td>\n",
              "    </tr>\n",
              "    <tr>\n",
              "      <th>43</th>\n",
              "      <td>8.8</td>\n",
              "      <td>16</td>\n",
              "      <td>0</td>\n",
              "      <td>1</td>\n",
              "      <td>1</td>\n",
              "      <td>Mpc</td>\n",
              "    </tr>\n",
              "    <tr>\n",
              "      <th>61</th>\n",
              "      <td>9.7</td>\n",
              "      <td>14</td>\n",
              "      <td>0</td>\n",
              "      <td>1</td>\n",
              "      <td>6</td>\n",
              "      <td>MPC</td>\n",
              "    </tr>\n",
              "    <tr>\n",
              "      <th>62</th>\n",
              "      <td>9.2</td>\n",
              "      <td>16</td>\n",
              "      <td>0</td>\n",
              "      <td>3</td>\n",
              "      <td>3</td>\n",
              "      <td>Mpc</td>\n",
              "    </tr>\n",
              "  </tbody>\n",
              "</table>\n",
              "</div>"
            ],
            "text/plain": [
              "    cgpa  age  s1  s2  s3 target\n",
              "2    9.8   16   0   3   2    MPC\n",
              "3   10.0   16   0   2   0    MPC\n",
              "43   8.8   16   0   1   1    Mpc\n",
              "61   9.7   14   0   1   6    MPC\n",
              "62   9.2   16   0   3   3    Mpc"
            ]
          },
          "metadata": {
            "tags": []
          },
          "execution_count": 89
        }
      ]
    },
    {
      "cell_type": "code",
      "metadata": {
        "id": "pNb0m1yRsrdY",
        "colab_type": "code",
        "colab": {}
      },
      "source": [
        "le4 = LabelEncoder()\n",
        "df1['target'] = le4.fit_transform(df1['target'].apply(lambda x:x.lower()))"
      ],
      "execution_count": 0,
      "outputs": []
    },
    {
      "cell_type": "code",
      "metadata": {
        "id": "lTsOfdwatDm3",
        "colab_type": "code",
        "outputId": "09da463d-c744-4f49-ae14-8f5853445133",
        "colab": {
          "base_uri": "https://localhost:8080/",
          "height": 34
        }
      },
      "source": [
        "df1['target'].unique()"
      ],
      "execution_count": 0,
      "outputs": [
        {
          "output_type": "execute_result",
          "data": {
            "text/plain": [
              "array([0, 1])"
            ]
          },
          "metadata": {
            "tags": []
          },
          "execution_count": 91
        }
      ]
    },
    {
      "cell_type": "code",
      "metadata": {
        "id": "wiQoOkiCtFPY",
        "colab_type": "code",
        "outputId": "4dbdd516-abe0-4826-d0b4-ce51e3e96cbf",
        "colab": {
          "base_uri": "https://localhost:8080/",
          "height": 204
        }
      },
      "source": [
        "df1.head()"
      ],
      "execution_count": 0,
      "outputs": [
        {
          "output_type": "execute_result",
          "data": {
            "text/html": [
              "<div>\n",
              "<style scoped>\n",
              "    .dataframe tbody tr th:only-of-type {\n",
              "        vertical-align: middle;\n",
              "    }\n",
              "\n",
              "    .dataframe tbody tr th {\n",
              "        vertical-align: top;\n",
              "    }\n",
              "\n",
              "    .dataframe thead th {\n",
              "        text-align: right;\n",
              "    }\n",
              "</style>\n",
              "<table border=\"1\" class=\"dataframe\">\n",
              "  <thead>\n",
              "    <tr style=\"text-align: right;\">\n",
              "      <th></th>\n",
              "      <th>cgpa</th>\n",
              "      <th>age</th>\n",
              "      <th>s1</th>\n",
              "      <th>s2</th>\n",
              "      <th>s3</th>\n",
              "      <th>target</th>\n",
              "    </tr>\n",
              "  </thead>\n",
              "  <tbody>\n",
              "    <tr>\n",
              "      <th>2</th>\n",
              "      <td>9.8</td>\n",
              "      <td>16</td>\n",
              "      <td>0</td>\n",
              "      <td>3</td>\n",
              "      <td>2</td>\n",
              "      <td>0</td>\n",
              "    </tr>\n",
              "    <tr>\n",
              "      <th>3</th>\n",
              "      <td>10.0</td>\n",
              "      <td>16</td>\n",
              "      <td>0</td>\n",
              "      <td>2</td>\n",
              "      <td>0</td>\n",
              "      <td>0</td>\n",
              "    </tr>\n",
              "    <tr>\n",
              "      <th>43</th>\n",
              "      <td>8.8</td>\n",
              "      <td>16</td>\n",
              "      <td>0</td>\n",
              "      <td>1</td>\n",
              "      <td>1</td>\n",
              "      <td>0</td>\n",
              "    </tr>\n",
              "    <tr>\n",
              "      <th>61</th>\n",
              "      <td>9.7</td>\n",
              "      <td>14</td>\n",
              "      <td>0</td>\n",
              "      <td>1</td>\n",
              "      <td>6</td>\n",
              "      <td>0</td>\n",
              "    </tr>\n",
              "    <tr>\n",
              "      <th>62</th>\n",
              "      <td>9.2</td>\n",
              "      <td>16</td>\n",
              "      <td>0</td>\n",
              "      <td>3</td>\n",
              "      <td>3</td>\n",
              "      <td>0</td>\n",
              "    </tr>\n",
              "  </tbody>\n",
              "</table>\n",
              "</div>"
            ],
            "text/plain": [
              "    cgpa  age  s1  s2  s3  target\n",
              "2    9.8   16   0   3   2       0\n",
              "3   10.0   16   0   2   0       0\n",
              "43   8.8   16   0   1   1       0\n",
              "61   9.7   14   0   1   6       0\n",
              "62   9.2   16   0   3   3       0"
            ]
          },
          "metadata": {
            "tags": []
          },
          "execution_count": 92
        }
      ]
    },
    {
      "cell_type": "code",
      "metadata": {
        "id": "weIlZa9quSeT",
        "colab_type": "code",
        "colab": {}
      },
      "source": [
        "t1 = df1['target']"
      ],
      "execution_count": 0,
      "outputs": []
    },
    {
      "cell_type": "code",
      "metadata": {
        "id": "zVze_fjkwsES",
        "colab_type": "code",
        "colab": {}
      },
      "source": [
        "df1.drop(['target'],axis=1,inplace=True)"
      ],
      "execution_count": 0,
      "outputs": []
    },
    {
      "cell_type": "code",
      "metadata": {
        "id": "m2fV7rbUwwIx",
        "colab_type": "code",
        "outputId": "c1761914-2454-407a-8689-c83dc143a290",
        "colab": {
          "base_uri": "https://localhost:8080/",
          "height": 204
        }
      },
      "source": [
        "df1.head()"
      ],
      "execution_count": 0,
      "outputs": [
        {
          "output_type": "execute_result",
          "data": {
            "text/html": [
              "<div>\n",
              "<style scoped>\n",
              "    .dataframe tbody tr th:only-of-type {\n",
              "        vertical-align: middle;\n",
              "    }\n",
              "\n",
              "    .dataframe tbody tr th {\n",
              "        vertical-align: top;\n",
              "    }\n",
              "\n",
              "    .dataframe thead th {\n",
              "        text-align: right;\n",
              "    }\n",
              "</style>\n",
              "<table border=\"1\" class=\"dataframe\">\n",
              "  <thead>\n",
              "    <tr style=\"text-align: right;\">\n",
              "      <th></th>\n",
              "      <th>cgpa</th>\n",
              "      <th>age</th>\n",
              "      <th>s1</th>\n",
              "      <th>s2</th>\n",
              "      <th>s3</th>\n",
              "    </tr>\n",
              "  </thead>\n",
              "  <tbody>\n",
              "    <tr>\n",
              "      <th>2</th>\n",
              "      <td>9.8</td>\n",
              "      <td>16</td>\n",
              "      <td>0</td>\n",
              "      <td>3</td>\n",
              "      <td>2</td>\n",
              "    </tr>\n",
              "    <tr>\n",
              "      <th>3</th>\n",
              "      <td>10.0</td>\n",
              "      <td>16</td>\n",
              "      <td>0</td>\n",
              "      <td>2</td>\n",
              "      <td>0</td>\n",
              "    </tr>\n",
              "    <tr>\n",
              "      <th>43</th>\n",
              "      <td>8.8</td>\n",
              "      <td>16</td>\n",
              "      <td>0</td>\n",
              "      <td>1</td>\n",
              "      <td>1</td>\n",
              "    </tr>\n",
              "    <tr>\n",
              "      <th>61</th>\n",
              "      <td>9.7</td>\n",
              "      <td>14</td>\n",
              "      <td>0</td>\n",
              "      <td>1</td>\n",
              "      <td>6</td>\n",
              "    </tr>\n",
              "    <tr>\n",
              "      <th>62</th>\n",
              "      <td>9.2</td>\n",
              "      <td>16</td>\n",
              "      <td>0</td>\n",
              "      <td>3</td>\n",
              "      <td>3</td>\n",
              "    </tr>\n",
              "  </tbody>\n",
              "</table>\n",
              "</div>"
            ],
            "text/plain": [
              "    cgpa  age  s1  s2  s3\n",
              "2    9.8   16   0   3   2\n",
              "3   10.0   16   0   2   0\n",
              "43   8.8   16   0   1   1\n",
              "61   9.7   14   0   1   6\n",
              "62   9.2   16   0   3   3"
            ]
          },
          "metadata": {
            "tags": []
          },
          "execution_count": 96
        }
      ]
    },
    {
      "cell_type": "code",
      "metadata": {
        "id": "G4XgH3rEwzBh",
        "colab_type": "code",
        "colab": {}
      },
      "source": [
        "xtrain,xvalid,ytrain,yvalid = train_test_split(df1,t1,test_size=0.2)"
      ],
      "execution_count": 0,
      "outputs": []
    },
    {
      "cell_type": "code",
      "metadata": {
        "id": "MpUdbSbrxuIv",
        "colab_type": "code",
        "outputId": "c4f53c82-d42a-4c6c-e443-e025642dc8e8",
        "colab": {
          "base_uri": "https://localhost:8080/",
          "height": 34
        }
      },
      "source": [
        "lr = LogisticRegression()\n",
        "model1 = lr.fit(xtrain,ytrain)\n",
        "prediction1 = lr.predict(xvalid)\n",
        "print(accuracy_score(yvalid,prediction1))"
      ],
      "execution_count": 0,
      "outputs": [
        {
          "output_type": "stream",
          "text": [
            "1.0\n"
          ],
          "name": "stdout"
        }
      ]
    },
    {
      "cell_type": "code",
      "metadata": {
        "id": "fgz2gS9exvC_",
        "colab_type": "code",
        "outputId": "3cd2ddf7-42e9-44dd-a75c-f616a1ef7c35",
        "colab": {
          "base_uri": "https://localhost:8080/",
          "height": 102
        }
      },
      "source": [
        "df['s1'].unique()"
      ],
      "execution_count": 0,
      "outputs": [
        {
          "output_type": "execute_result",
          "data": {
            "text/plain": [
              "array(['Mathematics', 'Maths', 'Physics', 'MATHEMATICS ', 'Economics',\n",
              "       'History', 'Biology', 'Commerce', 'Chemistry', 'Mathematics ',\n",
              "       'mathematics', 'biology ', 'Chemistry ', 'maths', 'Economic ',\n",
              "       'MATHEMATICS', 'Civics ', 'Mathematics,physics, chemistry',\n",
              "       'History ', 'Maths physics chemistry', 'biology'], dtype=object)"
            ]
          },
          "metadata": {
            "tags": []
          },
          "execution_count": 108
        }
      ]
    },
    {
      "cell_type": "code",
      "metadata": {
        "id": "FfW9kUpBy2xg",
        "colab_type": "code",
        "outputId": "450e5e11-eb2a-4858-b488-3b29e866e950",
        "colab": {
          "base_uri": "https://localhost:8080/",
          "height": 102
        }
      },
      "source": [
        "df['s1'].describe()"
      ],
      "execution_count": 0,
      "outputs": [
        {
          "output_type": "execute_result",
          "data": {
            "text/plain": [
              "count              86\n",
              "unique             21\n",
              "top       Mathematics\n",
              "freq               28\n",
              "Name: s1, dtype: object"
            ]
          },
          "metadata": {
            "tags": []
          },
          "execution_count": 109
        }
      ]
    },
    {
      "cell_type": "code",
      "metadata": {
        "id": "jqnT284fy6Tv",
        "colab_type": "code",
        "colab": {}
      },
      "source": [
        ""
      ],
      "execution_count": 0,
      "outputs": []
    }
  ]
}